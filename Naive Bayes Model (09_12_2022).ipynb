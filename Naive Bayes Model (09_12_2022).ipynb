{
 "cells": [
  {
   "cell_type": "code",
   "execution_count": 1,
   "id": "78069bee",
   "metadata": {},
   "outputs": [
    {
     "name": "stderr",
     "output_type": "stream",
     "text": [
      "C:\\Users\\MACHIRA\\anaconda3\\lib\\site-packages\\numpy\\_distributor_init.py:30: UserWarning: loaded more than 1 DLL from .libs:\n",
      "C:\\Users\\MACHIRA\\anaconda3\\lib\\site-packages\\numpy\\.libs\\libopenblas.FB5AE2TYXYH2IJRDKGDGQ3XBKLKTF43H.gfortran-win_amd64.dll\n",
      "C:\\Users\\MACHIRA\\anaconda3\\lib\\site-packages\\numpy\\.libs\\libopenblas.WCDJNK7YVMPZQ2ME2ZZHJJRJ3JIKNDB7.gfortran-win_amd64.dll\n",
      "  warnings.warn(\"loaded more than 1 DLL from .libs:\"\n"
     ]
    }
   ],
   "source": [
    "#import libraries \n",
    "import pandas as pd\n",
    "import numpy as np\n",
    "import matplotlib.pyplot as plt\n",
    "from sklearn.preprocessing import MinMaxScaler\n",
    "from sklearn.model_selection import train_test_split\n",
    "from sklearn.naive_bayes import GaussianNB\n",
    "from sklearn.metrics import f1_score, confusion_matrix, roc_auc_score, roc_curve, RocCurveDisplay\n"
   ]
  },
  {
   "cell_type": "code",
   "execution_count": 2,
   "id": "ff9082b2",
   "metadata": {},
   "outputs": [
    {
     "data": {
      "text/html": [
       "<div>\n",
       "<style scoped>\n",
       "    .dataframe tbody tr th:only-of-type {\n",
       "        vertical-align: middle;\n",
       "    }\n",
       "\n",
       "    .dataframe tbody tr th {\n",
       "        vertical-align: top;\n",
       "    }\n",
       "\n",
       "    .dataframe thead th {\n",
       "        text-align: right;\n",
       "    }\n",
       "</style>\n",
       "<table border=\"1\" class=\"dataframe\">\n",
       "  <thead>\n",
       "    <tr style=\"text-align: right;\">\n",
       "      <th></th>\n",
       "      <th>Browsing</th>\n",
       "      <th>Communication</th>\n",
       "      <th>Documentation</th>\n",
       "      <th>Email</th>\n",
       "      <th>Meetings</th>\n",
       "      <th>Miscellaneous</th>\n",
       "      <th>Online Meetings</th>\n",
       "      <th>Operations</th>\n",
       "      <th>Private</th>\n",
       "      <th>System Tools</th>\n",
       "      <th>System Utilities</th>\n",
       "      <th>Testing</th>\n",
       "      <th>Work</th>\n",
       "      <th>Terminated</th>\n",
       "    </tr>\n",
       "  </thead>\n",
       "  <tbody>\n",
       "    <tr>\n",
       "      <th>0</th>\n",
       "      <td>0.172761</td>\n",
       "      <td>0.408960</td>\n",
       "      <td>1.777557</td>\n",
       "      <td>2.243530</td>\n",
       "      <td>2.851692</td>\n",
       "      <td>0.0</td>\n",
       "      <td>0.117019</td>\n",
       "      <td>0.062778</td>\n",
       "      <td>0.0</td>\n",
       "      <td>0.133816</td>\n",
       "      <td>0.0</td>\n",
       "      <td>0.066000</td>\n",
       "      <td>0.317818</td>\n",
       "      <td>0</td>\n",
       "    </tr>\n",
       "    <tr>\n",
       "      <th>1</th>\n",
       "      <td>0.273351</td>\n",
       "      <td>0.949990</td>\n",
       "      <td>1.940660</td>\n",
       "      <td>2.162945</td>\n",
       "      <td>2.304740</td>\n",
       "      <td>0.0</td>\n",
       "      <td>0.429066</td>\n",
       "      <td>0.143683</td>\n",
       "      <td>0.0</td>\n",
       "      <td>0.234842</td>\n",
       "      <td>0.0</td>\n",
       "      <td>0.054167</td>\n",
       "      <td>0.345989</td>\n",
       "      <td>0</td>\n",
       "    </tr>\n",
       "    <tr>\n",
       "      <th>2</th>\n",
       "      <td>0.316184</td>\n",
       "      <td>1.189710</td>\n",
       "      <td>0.903404</td>\n",
       "      <td>2.279299</td>\n",
       "      <td>2.192019</td>\n",
       "      <td>0.0</td>\n",
       "      <td>0.373033</td>\n",
       "      <td>1.182396</td>\n",
       "      <td>0.0</td>\n",
       "      <td>0.191184</td>\n",
       "      <td>0.0</td>\n",
       "      <td>0.054852</td>\n",
       "      <td>0.245042</td>\n",
       "      <td>0</td>\n",
       "    </tr>\n",
       "    <tr>\n",
       "      <th>3</th>\n",
       "      <td>0.490175</td>\n",
       "      <td>1.669911</td>\n",
       "      <td>0.951240</td>\n",
       "      <td>1.730520</td>\n",
       "      <td>1.181128</td>\n",
       "      <td>0.0</td>\n",
       "      <td>0.381167</td>\n",
       "      <td>0.642517</td>\n",
       "      <td>0.0</td>\n",
       "      <td>0.245565</td>\n",
       "      <td>0.0</td>\n",
       "      <td>0.095423</td>\n",
       "      <td>0.654631</td>\n",
       "      <td>0</td>\n",
       "    </tr>\n",
       "    <tr>\n",
       "      <th>4</th>\n",
       "      <td>0.290220</td>\n",
       "      <td>1.223133</td>\n",
       "      <td>1.162363</td>\n",
       "      <td>3.060535</td>\n",
       "      <td>0.466788</td>\n",
       "      <td>0.0</td>\n",
       "      <td>0.146220</td>\n",
       "      <td>2.217705</td>\n",
       "      <td>0.0</td>\n",
       "      <td>0.593714</td>\n",
       "      <td>0.0</td>\n",
       "      <td>0.014583</td>\n",
       "      <td>0.146939</td>\n",
       "      <td>0</td>\n",
       "    </tr>\n",
       "  </tbody>\n",
       "</table>\n",
       "</div>"
      ],
      "text/plain": [
       "   Browsing  Communication  Documentation     Email  Meetings  Miscellaneous  \\\n",
       "0  0.172761       0.408960       1.777557  2.243530  2.851692            0.0   \n",
       "1  0.273351       0.949990       1.940660  2.162945  2.304740            0.0   \n",
       "2  0.316184       1.189710       0.903404  2.279299  2.192019            0.0   \n",
       "3  0.490175       1.669911       0.951240  1.730520  1.181128            0.0   \n",
       "4  0.290220       1.223133       1.162363  3.060535  0.466788            0.0   \n",
       "\n",
       "   Online Meetings  Operations  Private  System Tools  System Utilities  \\\n",
       "0         0.117019    0.062778      0.0      0.133816               0.0   \n",
       "1         0.429066    0.143683      0.0      0.234842               0.0   \n",
       "2         0.373033    1.182396      0.0      0.191184               0.0   \n",
       "3         0.381167    0.642517      0.0      0.245565               0.0   \n",
       "4         0.146220    2.217705      0.0      0.593714               0.0   \n",
       "\n",
       "    Testing      Work  Terminated  \n",
       "0  0.066000  0.317818           0  \n",
       "1  0.054167  0.345989           0  \n",
       "2  0.054852  0.245042           0  \n",
       "3  0.095423  0.654631           0  \n",
       "4  0.014583  0.146939           0  "
      ]
     },
     "execution_count": 2,
     "metadata": {},
     "output_type": "execute_result"
    }
   ],
   "source": [
    "#loading the dataset\n",
    "df = pd.read_csv('C:/Users/MACHIRA/Downloads/data.csv')\n",
    "df.head()"
   ]
  },
  {
   "cell_type": "code",
   "execution_count": 3,
   "id": "baf7367d",
   "metadata": {},
   "outputs": [
    {
     "data": {
      "text/plain": [
       "Browsing            float64\n",
       "Communication       float64\n",
       "Documentation       float64\n",
       "Email               float64\n",
       "Meetings            float64\n",
       "Miscellaneous       float64\n",
       "Online Meetings     float64\n",
       "Operations          float64\n",
       "Private             float64\n",
       "System Tools        float64\n",
       "System Utilities    float64\n",
       "Testing             float64\n",
       "Work                float64\n",
       "Terminated            int64\n",
       "dtype: object"
      ]
     },
     "execution_count": 3,
     "metadata": {},
     "output_type": "execute_result"
    }
   ],
   "source": [
    "df.dtypes"
   ]
  },
  {
   "cell_type": "code",
   "execution_count": 4,
   "id": "1d28311e",
   "metadata": {},
   "outputs": [
    {
     "data": {
      "text/plain": [
       "Browsing            0\n",
       "Communication       0\n",
       "Documentation       0\n",
       "Email               0\n",
       "Meetings            0\n",
       "Miscellaneous       0\n",
       "Online Meetings     0\n",
       "Operations          0\n",
       "Private             0\n",
       "System Tools        0\n",
       "System Utilities    0\n",
       "Testing             0\n",
       "Work                0\n",
       "Terminated          0\n",
       "dtype: int64"
      ]
     },
     "execution_count": 4,
     "metadata": {},
     "output_type": "execute_result"
    }
   ],
   "source": [
    "df.isnull().sum()"
   ]
  },
  {
   "cell_type": "code",
   "execution_count": 5,
   "id": "4b664ad5",
   "metadata": {},
   "outputs": [
    {
     "data": {
      "text/plain": [
       "(1027, 14)"
      ]
     },
     "execution_count": 5,
     "metadata": {},
     "output_type": "execute_result"
    }
   ],
   "source": [
    "df.shape"
   ]
  },
  {
   "cell_type": "code",
   "execution_count": 6,
   "id": "5dda8a67",
   "metadata": {},
   "outputs": [
    {
     "data": {
      "text/html": [
       "<div>\n",
       "<style scoped>\n",
       "    .dataframe tbody tr th:only-of-type {\n",
       "        vertical-align: middle;\n",
       "    }\n",
       "\n",
       "    .dataframe tbody tr th {\n",
       "        vertical-align: top;\n",
       "    }\n",
       "\n",
       "    .dataframe thead th {\n",
       "        text-align: right;\n",
       "    }\n",
       "</style>\n",
       "<table border=\"1\" class=\"dataframe\">\n",
       "  <thead>\n",
       "    <tr style=\"text-align: right;\">\n",
       "      <th></th>\n",
       "      <th>Browsing</th>\n",
       "      <th>Communication</th>\n",
       "      <th>Documentation</th>\n",
       "      <th>Email</th>\n",
       "      <th>Meetings</th>\n",
       "      <th>Miscellaneous</th>\n",
       "      <th>Online Meetings</th>\n",
       "      <th>Operations</th>\n",
       "      <th>Private</th>\n",
       "      <th>System Tools</th>\n",
       "      <th>System Utilities</th>\n",
       "      <th>Testing</th>\n",
       "      <th>Work</th>\n",
       "      <th>Terminated</th>\n",
       "    </tr>\n",
       "  </thead>\n",
       "  <tbody>\n",
       "    <tr>\n",
       "      <th>count</th>\n",
       "      <td>1027.000000</td>\n",
       "      <td>1027.000000</td>\n",
       "      <td>1027.000000</td>\n",
       "      <td>1027.000000</td>\n",
       "      <td>1027.000000</td>\n",
       "      <td>1027.000000</td>\n",
       "      <td>1027.000000</td>\n",
       "      <td>1027.000000</td>\n",
       "      <td>1027.000000</td>\n",
       "      <td>1027.000000</td>\n",
       "      <td>1027.000000</td>\n",
       "      <td>1027.000000</td>\n",
       "      <td>1027.000000</td>\n",
       "      <td>1027.000000</td>\n",
       "    </tr>\n",
       "    <tr>\n",
       "      <th>mean</th>\n",
       "      <td>0.171736</td>\n",
       "      <td>0.919624</td>\n",
       "      <td>1.599142</td>\n",
       "      <td>1.287912</td>\n",
       "      <td>0.683109</td>\n",
       "      <td>0.018608</td>\n",
       "      <td>0.114069</td>\n",
       "      <td>1.486949</td>\n",
       "      <td>0.000610</td>\n",
       "      <td>0.367135</td>\n",
       "      <td>0.000004</td>\n",
       "      <td>0.107714</td>\n",
       "      <td>0.161924</td>\n",
       "      <td>0.122687</td>\n",
       "    </tr>\n",
       "    <tr>\n",
       "      <th>std</th>\n",
       "      <td>0.174691</td>\n",
       "      <td>0.545519</td>\n",
       "      <td>1.015168</td>\n",
       "      <td>0.817417</td>\n",
       "      <td>0.603220</td>\n",
       "      <td>0.243808</td>\n",
       "      <td>0.142324</td>\n",
       "      <td>1.079386</td>\n",
       "      <td>0.009300</td>\n",
       "      <td>0.368702</td>\n",
       "      <td>0.000130</td>\n",
       "      <td>0.174317</td>\n",
       "      <td>0.333526</td>\n",
       "      <td>0.328238</td>\n",
       "    </tr>\n",
       "    <tr>\n",
       "      <th>min</th>\n",
       "      <td>0.000000</td>\n",
       "      <td>0.000000</td>\n",
       "      <td>0.000000</td>\n",
       "      <td>0.000000</td>\n",
       "      <td>0.000000</td>\n",
       "      <td>0.000000</td>\n",
       "      <td>0.000000</td>\n",
       "      <td>0.000000</td>\n",
       "      <td>0.000000</td>\n",
       "      <td>0.000000</td>\n",
       "      <td>0.000000</td>\n",
       "      <td>0.000000</td>\n",
       "      <td>0.000000</td>\n",
       "      <td>0.000000</td>\n",
       "    </tr>\n",
       "    <tr>\n",
       "      <th>25%</th>\n",
       "      <td>0.091522</td>\n",
       "      <td>0.512797</td>\n",
       "      <td>0.906118</td>\n",
       "      <td>0.675619</td>\n",
       "      <td>0.359318</td>\n",
       "      <td>0.000000</td>\n",
       "      <td>0.020329</td>\n",
       "      <td>0.664714</td>\n",
       "      <td>0.000000</td>\n",
       "      <td>0.173415</td>\n",
       "      <td>0.000000</td>\n",
       "      <td>0.000000</td>\n",
       "      <td>0.008333</td>\n",
       "      <td>0.000000</td>\n",
       "    </tr>\n",
       "    <tr>\n",
       "      <th>50%</th>\n",
       "      <td>0.129477</td>\n",
       "      <td>0.820193</td>\n",
       "      <td>1.380799</td>\n",
       "      <td>1.145910</td>\n",
       "      <td>0.512843</td>\n",
       "      <td>0.000000</td>\n",
       "      <td>0.077362</td>\n",
       "      <td>1.305983</td>\n",
       "      <td>0.000000</td>\n",
       "      <td>0.273949</td>\n",
       "      <td>0.000000</td>\n",
       "      <td>0.041191</td>\n",
       "      <td>0.061819</td>\n",
       "      <td>0.000000</td>\n",
       "    </tr>\n",
       "    <tr>\n",
       "      <th>75%</th>\n",
       "      <td>0.206650</td>\n",
       "      <td>1.183169</td>\n",
       "      <td>2.022473</td>\n",
       "      <td>1.712766</td>\n",
       "      <td>0.795305</td>\n",
       "      <td>0.000000</td>\n",
       "      <td>0.155349</td>\n",
       "      <td>2.057768</td>\n",
       "      <td>0.000000</td>\n",
       "      <td>0.432540</td>\n",
       "      <td>0.000000</td>\n",
       "      <td>0.158063</td>\n",
       "      <td>0.189154</td>\n",
       "      <td>0.000000</td>\n",
       "    </tr>\n",
       "    <tr>\n",
       "      <th>max</th>\n",
       "      <td>3.014452</td>\n",
       "      <td>4.386082</td>\n",
       "      <td>6.444863</td>\n",
       "      <td>5.329466</td>\n",
       "      <td>8.767778</td>\n",
       "      <td>6.602778</td>\n",
       "      <td>1.878125</td>\n",
       "      <td>5.948273</td>\n",
       "      <td>0.256113</td>\n",
       "      <td>4.508907</td>\n",
       "      <td>0.004167</td>\n",
       "      <td>1.928529</td>\n",
       "      <td>4.489029</td>\n",
       "      <td>1.000000</td>\n",
       "    </tr>\n",
       "  </tbody>\n",
       "</table>\n",
       "</div>"
      ],
      "text/plain": [
       "          Browsing  Communication  Documentation        Email     Meetings  \\\n",
       "count  1027.000000    1027.000000    1027.000000  1027.000000  1027.000000   \n",
       "mean      0.171736       0.919624       1.599142     1.287912     0.683109   \n",
       "std       0.174691       0.545519       1.015168     0.817417     0.603220   \n",
       "min       0.000000       0.000000       0.000000     0.000000     0.000000   \n",
       "25%       0.091522       0.512797       0.906118     0.675619     0.359318   \n",
       "50%       0.129477       0.820193       1.380799     1.145910     0.512843   \n",
       "75%       0.206650       1.183169       2.022473     1.712766     0.795305   \n",
       "max       3.014452       4.386082       6.444863     5.329466     8.767778   \n",
       "\n",
       "       Miscellaneous  Online Meetings   Operations      Private  System Tools  \\\n",
       "count    1027.000000      1027.000000  1027.000000  1027.000000   1027.000000   \n",
       "mean        0.018608         0.114069     1.486949     0.000610      0.367135   \n",
       "std         0.243808         0.142324     1.079386     0.009300      0.368702   \n",
       "min         0.000000         0.000000     0.000000     0.000000      0.000000   \n",
       "25%         0.000000         0.020329     0.664714     0.000000      0.173415   \n",
       "50%         0.000000         0.077362     1.305983     0.000000      0.273949   \n",
       "75%         0.000000         0.155349     2.057768     0.000000      0.432540   \n",
       "max         6.602778         1.878125     5.948273     0.256113      4.508907   \n",
       "\n",
       "       System Utilities      Testing         Work   Terminated  \n",
       "count       1027.000000  1027.000000  1027.000000  1027.000000  \n",
       "mean           0.000004     0.107714     0.161924     0.122687  \n",
       "std            0.000130     0.174317     0.333526     0.328238  \n",
       "min            0.000000     0.000000     0.000000     0.000000  \n",
       "25%            0.000000     0.000000     0.008333     0.000000  \n",
       "50%            0.000000     0.041191     0.061819     0.000000  \n",
       "75%            0.000000     0.158063     0.189154     0.000000  \n",
       "max            0.004167     1.928529     4.489029     1.000000  "
      ]
     },
     "execution_count": 6,
     "metadata": {},
     "output_type": "execute_result"
    }
   ],
   "source": [
    "df.describe()"
   ]
  },
  {
   "cell_type": "code",
   "execution_count": 7,
   "id": "38b7a30b",
   "metadata": {},
   "outputs": [
    {
     "data": {
      "text/plain": [
       "0    901\n",
       "1    126\n",
       "Name: Terminated, dtype: int64"
      ]
     },
     "execution_count": 7,
     "metadata": {},
     "output_type": "execute_result"
    }
   ],
   "source": [
    "df['Terminated'].value_counts()"
   ]
  },
  {
   "cell_type": "code",
   "execution_count": 8,
   "id": "22ca4714",
   "metadata": {},
   "outputs": [],
   "source": [
    "#Separating the target variable and the features\n",
    "x = df.drop('Terminated', axis=1)\n",
    "y = df['Terminated']\n"
   ]
  },
  {
   "cell_type": "code",
   "execution_count": 9,
   "id": "b59cf1d4",
   "metadata": {},
   "outputs": [
    {
     "data": {
      "text/html": [
       "<div>\n",
       "<style scoped>\n",
       "    .dataframe tbody tr th:only-of-type {\n",
       "        vertical-align: middle;\n",
       "    }\n",
       "\n",
       "    .dataframe tbody tr th {\n",
       "        vertical-align: top;\n",
       "    }\n",
       "\n",
       "    .dataframe thead th {\n",
       "        text-align: right;\n",
       "    }\n",
       "</style>\n",
       "<table border=\"1\" class=\"dataframe\">\n",
       "  <thead>\n",
       "    <tr style=\"text-align: right;\">\n",
       "      <th></th>\n",
       "      <th>Browsing</th>\n",
       "      <th>Communication</th>\n",
       "      <th>Documentation</th>\n",
       "      <th>Email</th>\n",
       "      <th>Meetings</th>\n",
       "      <th>Miscellaneous</th>\n",
       "      <th>Online Meetings</th>\n",
       "      <th>Operations</th>\n",
       "      <th>Private</th>\n",
       "      <th>System Tools</th>\n",
       "      <th>System Utilities</th>\n",
       "      <th>Testing</th>\n",
       "      <th>Work</th>\n",
       "    </tr>\n",
       "  </thead>\n",
       "  <tbody>\n",
       "    <tr>\n",
       "      <th>0</th>\n",
       "      <td>0.057311</td>\n",
       "      <td>0.093240</td>\n",
       "      <td>0.275810</td>\n",
       "      <td>0.420967</td>\n",
       "      <td>0.325247</td>\n",
       "      <td>0.0</td>\n",
       "      <td>0.062307</td>\n",
       "      <td>0.010554</td>\n",
       "      <td>0.0</td>\n",
       "      <td>0.029678</td>\n",
       "      <td>0.0</td>\n",
       "      <td>0.034223</td>\n",
       "      <td>0.070799</td>\n",
       "    </tr>\n",
       "    <tr>\n",
       "      <th>1</th>\n",
       "      <td>0.090680</td>\n",
       "      <td>0.216592</td>\n",
       "      <td>0.301117</td>\n",
       "      <td>0.405847</td>\n",
       "      <td>0.262865</td>\n",
       "      <td>0.0</td>\n",
       "      <td>0.228455</td>\n",
       "      <td>0.024155</td>\n",
       "      <td>0.0</td>\n",
       "      <td>0.052084</td>\n",
       "      <td>0.0</td>\n",
       "      <td>0.028087</td>\n",
       "      <td>0.077074</td>\n",
       "    </tr>\n",
       "    <tr>\n",
       "      <th>2</th>\n",
       "      <td>0.104889</td>\n",
       "      <td>0.271247</td>\n",
       "      <td>0.140174</td>\n",
       "      <td>0.427679</td>\n",
       "      <td>0.250008</td>\n",
       "      <td>0.0</td>\n",
       "      <td>0.198620</td>\n",
       "      <td>0.198780</td>\n",
       "      <td>0.0</td>\n",
       "      <td>0.042401</td>\n",
       "      <td>0.0</td>\n",
       "      <td>0.028442</td>\n",
       "      <td>0.054587</td>\n",
       "    </tr>\n",
       "    <tr>\n",
       "      <th>3</th>\n",
       "      <td>0.162608</td>\n",
       "      <td>0.380729</td>\n",
       "      <td>0.147597</td>\n",
       "      <td>0.324708</td>\n",
       "      <td>0.134712</td>\n",
       "      <td>0.0</td>\n",
       "      <td>0.202951</td>\n",
       "      <td>0.108017</td>\n",
       "      <td>0.0</td>\n",
       "      <td>0.054462</td>\n",
       "      <td>0.0</td>\n",
       "      <td>0.049480</td>\n",
       "      <td>0.145829</td>\n",
       "    </tr>\n",
       "    <tr>\n",
       "      <th>4</th>\n",
       "      <td>0.096276</td>\n",
       "      <td>0.278867</td>\n",
       "      <td>0.180355</td>\n",
       "      <td>0.574267</td>\n",
       "      <td>0.053239</td>\n",
       "      <td>0.0</td>\n",
       "      <td>0.077854</td>\n",
       "      <td>0.372832</td>\n",
       "      <td>0.0</td>\n",
       "      <td>0.131676</td>\n",
       "      <td>0.0</td>\n",
       "      <td>0.007562</td>\n",
       "      <td>0.032733</td>\n",
       "    </tr>\n",
       "    <tr>\n",
       "      <th>...</th>\n",
       "      <td>...</td>\n",
       "      <td>...</td>\n",
       "      <td>...</td>\n",
       "      <td>...</td>\n",
       "      <td>...</td>\n",
       "      <td>...</td>\n",
       "      <td>...</td>\n",
       "      <td>...</td>\n",
       "      <td>...</td>\n",
       "      <td>...</td>\n",
       "      <td>...</td>\n",
       "      <td>...</td>\n",
       "      <td>...</td>\n",
       "    </tr>\n",
       "    <tr>\n",
       "      <th>1022</th>\n",
       "      <td>0.123971</td>\n",
       "      <td>0.261762</td>\n",
       "      <td>0.267019</td>\n",
       "      <td>0.118205</td>\n",
       "      <td>0.021892</td>\n",
       "      <td>0.0</td>\n",
       "      <td>0.193603</td>\n",
       "      <td>0.354827</td>\n",
       "      <td>0.0</td>\n",
       "      <td>0.070454</td>\n",
       "      <td>0.0</td>\n",
       "      <td>0.002161</td>\n",
       "      <td>0.000000</td>\n",
       "    </tr>\n",
       "    <tr>\n",
       "      <th>1023</th>\n",
       "      <td>1.000000</td>\n",
       "      <td>0.056175</td>\n",
       "      <td>0.000000</td>\n",
       "      <td>0.027468</td>\n",
       "      <td>0.000000</td>\n",
       "      <td>0.0</td>\n",
       "      <td>0.000000</td>\n",
       "      <td>0.000700</td>\n",
       "      <td>0.0</td>\n",
       "      <td>0.001848</td>\n",
       "      <td>0.0</td>\n",
       "      <td>0.000000</td>\n",
       "      <td>0.000000</td>\n",
       "    </tr>\n",
       "    <tr>\n",
       "      <th>1024</th>\n",
       "      <td>0.038539</td>\n",
       "      <td>0.328533</td>\n",
       "      <td>0.202855</td>\n",
       "      <td>0.481607</td>\n",
       "      <td>0.049947</td>\n",
       "      <td>0.0</td>\n",
       "      <td>0.000000</td>\n",
       "      <td>0.234062</td>\n",
       "      <td>0.0</td>\n",
       "      <td>0.052290</td>\n",
       "      <td>0.0</td>\n",
       "      <td>0.000000</td>\n",
       "      <td>0.000000</td>\n",
       "    </tr>\n",
       "    <tr>\n",
       "      <th>1025</th>\n",
       "      <td>0.278075</td>\n",
       "      <td>0.173809</td>\n",
       "      <td>0.460561</td>\n",
       "      <td>0.088206</td>\n",
       "      <td>0.098815</td>\n",
       "      <td>0.0</td>\n",
       "      <td>0.003698</td>\n",
       "      <td>0.127924</td>\n",
       "      <td>0.0</td>\n",
       "      <td>0.060741</td>\n",
       "      <td>0.0</td>\n",
       "      <td>0.000000</td>\n",
       "      <td>0.011138</td>\n",
       "    </tr>\n",
       "    <tr>\n",
       "      <th>1026</th>\n",
       "      <td>0.090099</td>\n",
       "      <td>0.248059</td>\n",
       "      <td>0.249147</td>\n",
       "      <td>0.462375</td>\n",
       "      <td>0.057027</td>\n",
       "      <td>0.0</td>\n",
       "      <td>0.000000</td>\n",
       "      <td>0.282416</td>\n",
       "      <td>0.0</td>\n",
       "      <td>0.019934</td>\n",
       "      <td>0.0</td>\n",
       "      <td>0.000000</td>\n",
       "      <td>0.000000</td>\n",
       "    </tr>\n",
       "  </tbody>\n",
       "</table>\n",
       "<p>1027 rows × 13 columns</p>\n",
       "</div>"
      ],
      "text/plain": [
       "      Browsing  Communication  Documentation     Email  Meetings  \\\n",
       "0     0.057311       0.093240       0.275810  0.420967  0.325247   \n",
       "1     0.090680       0.216592       0.301117  0.405847  0.262865   \n",
       "2     0.104889       0.271247       0.140174  0.427679  0.250008   \n",
       "3     0.162608       0.380729       0.147597  0.324708  0.134712   \n",
       "4     0.096276       0.278867       0.180355  0.574267  0.053239   \n",
       "...        ...            ...            ...       ...       ...   \n",
       "1022  0.123971       0.261762       0.267019  0.118205  0.021892   \n",
       "1023  1.000000       0.056175       0.000000  0.027468  0.000000   \n",
       "1024  0.038539       0.328533       0.202855  0.481607  0.049947   \n",
       "1025  0.278075       0.173809       0.460561  0.088206  0.098815   \n",
       "1026  0.090099       0.248059       0.249147  0.462375  0.057027   \n",
       "\n",
       "      Miscellaneous  Online Meetings  Operations  Private  System Tools  \\\n",
       "0               0.0         0.062307    0.010554      0.0      0.029678   \n",
       "1               0.0         0.228455    0.024155      0.0      0.052084   \n",
       "2               0.0         0.198620    0.198780      0.0      0.042401   \n",
       "3               0.0         0.202951    0.108017      0.0      0.054462   \n",
       "4               0.0         0.077854    0.372832      0.0      0.131676   \n",
       "...             ...              ...         ...      ...           ...   \n",
       "1022            0.0         0.193603    0.354827      0.0      0.070454   \n",
       "1023            0.0         0.000000    0.000700      0.0      0.001848   \n",
       "1024            0.0         0.000000    0.234062      0.0      0.052290   \n",
       "1025            0.0         0.003698    0.127924      0.0      0.060741   \n",
       "1026            0.0         0.000000    0.282416      0.0      0.019934   \n",
       "\n",
       "      System Utilities   Testing      Work  \n",
       "0                  0.0  0.034223  0.070799  \n",
       "1                  0.0  0.028087  0.077074  \n",
       "2                  0.0  0.028442  0.054587  \n",
       "3                  0.0  0.049480  0.145829  \n",
       "4                  0.0  0.007562  0.032733  \n",
       "...                ...       ...       ...  \n",
       "1022               0.0  0.002161  0.000000  \n",
       "1023               0.0  0.000000  0.000000  \n",
       "1024               0.0  0.000000  0.000000  \n",
       "1025               0.0  0.000000  0.011138  \n",
       "1026               0.0  0.000000  0.000000  \n",
       "\n",
       "[1027 rows x 13 columns]"
      ]
     },
     "execution_count": 9,
     "metadata": {},
     "output_type": "execute_result"
    }
   ],
   "source": [
    "#Scaling the numerical feature to avoid any outliers in the data\n",
    "def scale_df(x):\n",
    "    scaler = MinMaxScaler()\n",
    "    names = x.columns\n",
    "    scaler.fit(x)\n",
    "    scaled_num = scaler.transform(x)\n",
    "    scaled_num_cols = pd.DataFrame(scaled_num, columns=names)\n",
    "    return scaled_num_cols\n",
    "\n",
    "X = scale_df(x)\n",
    "X"
   ]
  },
  {
   "cell_type": "code",
   "execution_count": 10,
   "id": "acbfbe86",
   "metadata": {},
   "outputs": [
    {
     "data": {
      "application/javascript": [
       "\n",
       "        if (window._pyforest_update_imports_cell) { window._pyforest_update_imports_cell('from sklearn import metrics'); }\n",
       "    "
      ],
      "text/plain": [
       "<IPython.core.display.Javascript object>"
      ]
     },
     "metadata": {},
     "output_type": "display_data"
    },
    {
     "name": "stdout",
     "output_type": "stream",
     "text": [
      "Accuracy for Unscaled Train Data: 0.8181818181818182\n"
     ]
    },
    {
     "data": {
      "application/javascript": [
       "\n",
       "        if (window._pyforest_update_imports_cell) { window._pyforest_update_imports_cell('from sklearn import metrics'); }\n",
       "    "
      ],
      "text/plain": [
       "<IPython.core.display.Javascript object>"
      ]
     },
     "metadata": {},
     "output_type": "display_data"
    },
    {
     "name": "stdout",
     "output_type": "stream",
     "text": [
      "[[496  20]\n",
      " [ 92   8]]\n"
     ]
    },
    {
     "data": {
      "application/javascript": [
       "\n",
       "        if (window._pyforest_update_imports_cell) { window._pyforest_update_imports_cell('from sklearn import metrics'); }\n",
       "    "
      ],
      "text/plain": [
       "<IPython.core.display.Javascript object>"
      ]
     },
     "metadata": {},
     "output_type": "display_data"
    },
    {
     "name": "stdout",
     "output_type": "stream",
     "text": [
      "Accuracy for Scaled Train Data: 0.8376623376623377\n"
     ]
    },
    {
     "data": {
      "application/javascript": [
       "\n",
       "        if (window._pyforest_update_imports_cell) { window._pyforest_update_imports_cell('from sklearn import metrics'); }\n",
       "    "
      ],
      "text/plain": [
       "<IPython.core.display.Javascript object>"
      ]
     },
     "metadata": {},
     "output_type": "display_data"
    },
    {
     "name": "stdout",
     "output_type": "stream",
     "text": [
      "[[514   2]\n",
      " [ 98   2]]\n"
     ]
    }
   ],
   "source": [
    "#Creating the Naive bayes model for Train and test\n",
    "def naive_bayes_classifier(x, y):\n",
    "    \n",
    "    model = GaussianNB()\n",
    "    model.fit(x, y)\n",
    "    \n",
    "    return model\n",
    "\n",
    "#splitting and fitting the model the original data\n",
    "x_train, x_test, y_train, y_test = train_test_split(x, y, test_size = .4, shuffle=False)\n",
    "gnb = naive_bayes_classifier(x, y)#Fitting the model on the original data\n",
    "train_unscaled_pred = gnb.predict(x_train)\n",
    "\n",
    "#splitting and fitting the model the scaled data\n",
    "train_x, test_x, train_y, test_y = train_test_split(X, y, test_size = .4, shuffle=False)\n",
    "gnb = naive_bayes_classifier(X, y) #Fitting the model on scaled data\n",
    "train_scaled_pred = gnb.predict(train_x)\n",
    "\n",
    "#fining the accuracy score on Train data\n",
    "print(\"Accuracy for Unscaled Train Data:\", metrics.accuracy_score(y_train,train_unscaled_pred))\n",
    "print( metrics.confusion_matrix(y_train,train_unscaled_pred))\n",
    "print(\"Accuracy for Scaled Train Data:\", metrics.accuracy_score(y_train,train_scaled_pred))\n",
    "print( metrics.confusion_matrix(y_train,train_scaled_pred))"
   ]
  },
  {
   "cell_type": "code",
   "execution_count": 11,
   "id": "656b3924",
   "metadata": {},
   "outputs": [
    {
     "data": {
      "application/javascript": [
       "\n",
       "        if (window._pyforest_update_imports_cell) { window._pyforest_update_imports_cell('from sklearn import metrics'); }\n",
       "    "
      ],
      "text/plain": [
       "<IPython.core.display.Javascript object>"
      ]
     },
     "metadata": {},
     "output_type": "display_data"
    },
    {
     "name": "stdout",
     "output_type": "stream",
     "text": [
      "Accuracy for Unscaled Test Data: 0.44282238442822386\n"
     ]
    },
    {
     "data": {
      "application/javascript": [
       "\n",
       "        if (window._pyforest_update_imports_cell) { window._pyforest_update_imports_cell('from sklearn import metrics'); }\n",
       "    "
      ],
      "text/plain": [
       "<IPython.core.display.Javascript object>"
      ]
     },
     "metadata": {},
     "output_type": "display_data"
    },
    {
     "name": "stdout",
     "output_type": "stream",
     "text": [
      "[[165 220]\n",
      " [  9  17]]\n"
     ]
    },
    {
     "data": {
      "application/javascript": [
       "\n",
       "        if (window._pyforest_update_imports_cell) { window._pyforest_update_imports_cell('from sklearn import metrics'); }\n",
       "    "
      ],
      "text/plain": [
       "<IPython.core.display.Javascript object>"
      ]
     },
     "metadata": {},
     "output_type": "display_data"
    },
    {
     "name": "stdout",
     "output_type": "stream",
     "text": [
      "Accuracy for Scaled Test Data: 0.927007299270073\n"
     ]
    },
    {
     "data": {
      "application/javascript": [
       "\n",
       "        if (window._pyforest_update_imports_cell) { window._pyforest_update_imports_cell('from sklearn import metrics'); }\n",
       "    "
      ],
      "text/plain": [
       "<IPython.core.display.Javascript object>"
      ]
     },
     "metadata": {},
     "output_type": "display_data"
    },
    {
     "name": "stdout",
     "output_type": "stream",
     "text": [
      "[[380   5]\n",
      " [ 25   1]]\n"
     ]
    }
   ],
   "source": [
    "#fining the accuracy score on Test data\n",
    "test_unscaled_pred = gnb.predict(x_test)\n",
    "print(\"Accuracy for Unscaled Test Data:\", metrics.accuracy_score(y_test,test_unscaled_pred))\n",
    "print(metrics.confusion_matrix(y_test,test_unscaled_pred))\n",
    "\n",
    "test_scaled_pred = gnb.predict(test_x)\n",
    "print(\"Accuracy for Scaled Test Data:\", metrics.accuracy_score(y_test,test_scaled_pred))\n",
    "print(metrics.confusion_matrix(test_y,test_scaled_pred))"
   ]
  },
  {
   "cell_type": "code",
   "execution_count": 12,
   "id": "61c1da08",
   "metadata": {},
   "outputs": [
    {
     "name": "stdout",
     "output_type": "stream",
     "text": [
      "F1 score for Unscaled data: 0.12927756653992395\n",
      "F1 score Scaled Data: 0.0625\n"
     ]
    }
   ],
   "source": [
    "print(\"F1 score for Unscaled data:\", f1_score(y_test, test_unscaled_pred))\n",
    "print(\"F1 score Scaled Data:\", f1_score(test_y, test_scaled_pred))"
   ]
  },
  {
   "cell_type": "code",
   "execution_count": 13,
   "id": "663b6eea",
   "metadata": {},
   "outputs": [
    {
     "name": "stdout",
     "output_type": "stream",
     "text": [
      "ROC AUC Unscaled: 0.5412\n"
     ]
    }
   ],
   "source": [
    "score = roc_auc_score(y_test,test_unscaled_pred)\n",
    "print(f\"ROC AUC Unscaled: {score:.4f}\")"
   ]
  },
  {
   "cell_type": "code",
   "execution_count": 14,
   "id": "bf5c8f43",
   "metadata": {},
   "outputs": [
    {
     "name": "stdout",
     "output_type": "stream",
     "text": [
      "ROC AUC Scaled: 0.5127\n"
     ]
    }
   ],
   "source": [
    "score = roc_auc_score(test_y, test_scaled_pred)\n",
    "print(f\"ROC AUC Scaled: {score:.4f}\")"
   ]
  },
  {
   "cell_type": "code",
   "execution_count": 15,
   "id": "0c4676a1",
   "metadata": {},
   "outputs": [
    {
     "name": "stdout",
     "output_type": "stream",
     "text": [
      "ROC AUC Unscaled Data: 0.5537\n"
     ]
    },
    {
     "data": {
      "application/javascript": [
       "\n",
       "        if (window._pyforest_update_imports_cell) { window._pyforest_update_imports_cell('from sklearn import metrics'); }\n",
       "    "
      ],
      "text/plain": [
       "<IPython.core.display.Javascript object>"
      ]
     },
     "metadata": {},
     "output_type": "display_data"
    },
    {
     "data": {
      "application/javascript": [
       "\n",
       "        if (window._pyforest_update_imports_cell) { window._pyforest_update_imports_cell('from sklearn import metrics'); }\n",
       "    "
      ],
      "text/plain": [
       "<IPython.core.display.Javascript object>"
      ]
     },
     "metadata": {},
     "output_type": "display_data"
    },
    {
     "name": "stdout",
     "output_type": "stream",
     "text": [
      "ROC AUC Scaled Data: 0.6816\n"
     ]
    },
    {
     "data": {
      "application/javascript": [
       "\n",
       "        if (window._pyforest_update_imports_cell) { window._pyforest_update_imports_cell('from sklearn import metrics'); }\n",
       "    "
      ],
      "text/plain": [
       "<IPython.core.display.Javascript object>"
      ]
     },
     "metadata": {},
     "output_type": "display_data"
    },
    {
     "data": {
      "application/javascript": [
       "\n",
       "        if (window._pyforest_update_imports_cell) { window._pyforest_update_imports_cell('from sklearn import metrics'); }\n",
       "    "
      ],
      "text/plain": [
       "<IPython.core.display.Javascript object>"
      ]
     },
     "metadata": {},
     "output_type": "display_data"
    },
    {
     "data": {
      "image/png": "[encoded data removed]",
      "text/plain": [
       "<Figure size 640x480 with 1 Axes>"
      ]
     },
     "metadata": {},
     "output_type": "display_data"
    }
   ],
   "source": [
    "#ROC AUC Unscaled data\n",
    "test_Proba = gnb.predict_proba(x_test)\n",
    "score = roc_auc_score(y_test,test_Proba[:, 1])\n",
    "print(f\"ROC AUC Unscaled Data: {score:.4f}\")\n",
    "\n",
    "# calculate the fpr and tpr for all thresholds of the classification\n",
    "preds = test_Proba[:,1]\n",
    "fpr, tpr, threshold = metrics.roc_curve(y_test, preds)\n",
    "roc_auc = metrics.auc(fpr, tpr)\n",
    "plt.plot(fpr, tpr, 'b', label = 'Uncaled Classification AUC = %0.2f' % roc_auc)\n",
    "\n",
    "\n",
    "\n",
    "\n",
    "#ROC AUC Scaled data\n",
    "test_proba = gnb.predict_proba(test_x)\n",
    "score = roc_auc_score(test_y,test_proba[:, 1])\n",
    "print(f\"ROC AUC Scaled Data: {score:.4f}\")\n",
    "\n",
    "# calculate the fpr and tpr for all thresholds of the scaled Classification\n",
    "preds = test_proba[:,1]\n",
    "fpr, tpr, threshold = metrics.roc_curve(y_test, preds)\n",
    "auc = metrics.auc(fpr, tpr)\n",
    "\n",
    "\n",
    "\n",
    "#ploting the ROC Curve\n",
    "plt.title('Receiver Operating Characteristic')\n",
    "plt.plot(fpr, tpr, 'g', label = 'Scaled Classification AUC = %0.2f' % auc)\n",
    "plt.legend(loc = 'lower right')\n",
    "plt.plot([0, 1], [0, 1],'r--')\n",
    "plt.xlim([0, 1])\n",
    "plt.ylim([0, 1])\n",
    "plt.ylabel('True Positive Rate')\n",
    "plt.xlabel('False Positive Rate')\n",
    "plt.show()"
   ]
  },
  {
   "cell_type": "code",
   "execution_count": null,
   "id": "161bd4d4",
   "metadata": {},
   "outputs": [],
   "source": []
  }
 ],
 "metadata": {
  "kernelspec": {
   "display_name": "Python 3 (ipykernel)",
   "language": "python",
   "name": "python3"
  },
  "language_info": {
   "codemirror_mode": {
    "name": "ipython",
    "version": 3
   },
   "file_extension": ".py",
   "mimetype": "text/x-python",
   "name": "python",
   "nbconvert_exporter": "python",
   "pygments_lexer": "ipython3",
   "version": "3.8.8"
  }
 },
 "nbformat": 4,
 "nbformat_minor": 5
}
